{
 "cells": [
  {
   "cell_type": "code",
   "execution_count": 1,
   "id": "a7def833",
   "metadata": {},
   "outputs": [],
   "source": [
    "import numpy as np\n",
    "import matplotlib.pyplot as plt\n",
    "import math\n",
    "from ortools.linear_solver import pywraplp"
   ]
  },
  {
   "cell_type": "markdown",
   "id": "434f95f0",
   "metadata": {},
   "source": [
    "# Systems Simulation and Modeling Project"
   ]
  },
  {
   "cell_type": "markdown",
   "id": "dbec373f",
   "metadata": {},
   "source": [
    "## Optimization Linear Programming\n",
    "## Vehicle routing optimization"
   ]
  },
  {
   "cell_type": "markdown",
   "id": "c6611f74",
   "metadata": {},
   "source": [
    "###### Objective function\n",
    "We would want to minimize the total traveling distance of all vehicle\n",
    "$$minimize \\sum_{k=0}^{N} \\sum_{i=0}^{N} \\sum_{j=0}^{N} c_{ij}^{k}x_{ij}^{k}$$\n",
    "\n",
    "###### constraint 2\n",
    "$$\\sum_{i=0}^{N} x_{it}^{k} - \\sum_{j=0}^{N} x_{tj}^{k} = 0, \\forall k, \\forall t$$"
   ]
  },
  {
   "cell_type": "code",
   "execution_count": 2,
   "id": "9f67ef9b",
   "metadata": {},
   "outputs": [],
   "source": [
    "n = 10\n",
    "vehicle_count = 2\n",
    "locations_count = 5\n",
    "locations = np.zeros((locations_count, 2))\n",
    "count = 0\n",
    "while(count < locations_count):\n",
    "    x, y = np.random.randint(0, n-1), np.random.randint(0, n-1)\n",
    "    xy = np.array([x,y])\n",
    "    if not np.any(np.all(xy == locations, axis=1)): # if it is unique (x,y) coordinates, then add to locations\n",
    "        locations[count] = [x,y] \n",
    "        count+=1"
   ]
  },
  {
   "cell_type": "code",
   "execution_count": 3,
   "id": "870e142a",
   "metadata": {},
   "outputs": [],
   "source": [
    "xs, ys = locations.T\n",
    "center = locations[0]"
   ]
  },
  {
   "cell_type": "code",
   "execution_count": 4,
   "id": "e72360f0",
   "metadata": {},
   "outputs": [
    {
     "data": {
      "image/png": "[encoded data removed]",
      "text/plain": [
       "<Figure size 432x288 with 1 Axes>"
      ]
     },
     "metadata": {
      "needs_background": "light"
     },
     "output_type": "display_data"
    }
   ],
   "source": [
    "plt.plot(xs, ys, '.')\n",
    "plt.plot(center[0], center[1], '.')\n",
    "plt.grid()"
   ]
  },
  {
   "cell_type": "code",
   "execution_count": 5,
   "id": "edc02949",
   "metadata": {},
   "outputs": [],
   "source": [
    "def distance(p1, p2):\n",
    "    x1, x2 = p1[0], p2[0]\n",
    "    y1, y2 = p1[1], p2[1]\n",
    "    return math.hypot(x2 - x1, y2 - y1)"
   ]
  },
  {
   "cell_type": "code",
   "execution_count": 6,
   "id": "25f15b0c",
   "metadata": {},
   "outputs": [
    {
     "data": {
      "text/plain": [
       "[[0.0, 5.0, 2.0, 2.8284271247461903, 6.4031242374328485],\n",
       " [5.0, 0.0, 3.0, 3.6055512754639896, 5.099019513592785],\n",
       " [2.0, 3.0, 0.0, 2.0, 5.385164807134505],\n",
       " [2.8284271247461903, 3.6055512754639896, 2.0, 0.0, 3.6055512754639896],\n",
       " [6.4031242374328485,\n",
       "  5.099019513592785,\n",
       "  5.385164807134505,\n",
       "  3.6055512754639896,\n",
       "  0.0]]"
      ]
     },
     "execution_count": 6,
     "metadata": {},
     "output_type": "execute_result"
    }
   ],
   "source": [
    "distance_matrix = [[distance(locations[i], locations[j]) \n",
    "                    for i in range(locations_count)] \n",
    "                    for j in range(locations_count)]\n",
    "distance_matrix"
   ]
  },
  {
   "cell_type": "code",
   "execution_count": 7,
   "id": "fd7415a4",
   "metadata": {},
   "outputs": [
    {
     "data": {
      "text/plain": [
       "5.0"
      ]
     },
     "execution_count": 7,
     "metadata": {},
     "output_type": "execute_result"
    }
   ],
   "source": [
    "distance(center, locations[1])"
   ]
  },
  {
   "cell_type": "code",
   "execution_count": 8,
   "id": "4c5918ce",
   "metadata": {},
   "outputs": [
    {
     "name": "stdout",
     "output_type": "stream",
     "text": [
      "[1. 3.]\n",
      "[6. 3.]\n"
     ]
    }
   ],
   "source": [
    "print(center)\n",
    "print(locations[1])"
   ]
  },
  {
   "cell_type": "code",
   "execution_count": 9,
   "id": "d63bb367",
   "metadata": {},
   "outputs": [],
   "source": [
    "solver = pywraplp.Solver.CreateSolver('SAT')\n",
    "\n",
    "x = [[[solver.NumVar(0, 1, 'x_%s_%s,%s'%(i, j, k)) \n",
    "        for k in range(vehicle_count)] \n",
    "        for i in range(locations_count)] \n",
    "        for j in range(locations_count)]\n",
    "\n",
    "objective_terms = [ distance_matrix[i][j] * x[i][j][k] if i!=j else 0\n",
    "                   for k in range(vehicle_count) \n",
    "                   for i in range(locations_count) \n",
    "                   for j in range(locations_count) ]\n",
    "\n",
    "solver.Minimize(solver.Sum(objective_terms))"
   ]
  },
  {
   "cell_type": "code",
   "execution_count": 10,
   "id": "2506f4af",
   "metadata": {},
   "outputs": [],
   "source": [
    "# constraint 1\n",
    "for i in range(locations_count):\n",
    "    constraint1 = [ x[i][j][k] if i!=j else 0\n",
    "                   for k in range(vehicle_count) \n",
    "                   for j in range(locations_count) ]\n",
    "    solver.Add(solver.Sum(constraint1) == 1)\n",
    "    \n",
    "# constraint 2\n",
    "for k in range(vehicle_count):\n",
    "    for t in range(locations_count):\n",
    "        constraint2_1 = [x[i][t][k] for i in range(locations_count)]\n",
    "        constraint2_2 = [x[t][j][k] for j in range(locations_count)]\n",
    "        solver.Add((solver.Sum(constraint2_1) - solver.Sum(constraint2_2)) == 0)"
   ]
  },
  {
   "cell_type": "code",
   "execution_count": 11,
   "id": "230547f0",
   "metadata": {},
   "outputs": [
    {
     "data": {
      "text/plain": [
       "0"
      ]
     },
     "execution_count": 11,
     "metadata": {},
     "output_type": "execute_result"
    }
   ],
   "source": [
    "solver.Solve()"
   ]
  },
  {
   "cell_type": "code",
   "execution_count": 12,
   "id": "0623ffe1",
   "metadata": {},
   "outputs": [
    {
     "data": {
      "text/plain": [
       "16.31012201309204"
      ]
     },
     "execution_count": 12,
     "metadata": {},
     "output_type": "execute_result"
    }
   ],
   "source": [
    "solver.Objective().Value()"
   ]
  },
  {
   "cell_type": "code",
   "execution_count": null,
   "id": "9ef85950",
   "metadata": {},
   "outputs": [],
   "source": []
  }
 ],
 "metadata": {
  "kernelspec": {
   "display_name": "Python 3",
   "language": "python",
   "name": "python3"
  },
  "language_info": {
   "codemirror_mode": {
    "name": "ipython",
    "version": 3
   },
   "file_extension": ".py",
   "mimetype": "text/x-python",
   "name": "python",
   "nbconvert_exporter": "python",
   "pygments_lexer": "ipython3",
   "version": "3.8.8"
  }
 },
 "nbformat": 4,
 "nbformat_minor": 5
}
