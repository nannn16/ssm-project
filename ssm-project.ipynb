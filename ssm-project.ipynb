{
 "cells": [
  {
   "cell_type": "code",
   "execution_count": 1,
   "id": "a7def833",
   "metadata": {},
   "outputs": [],
   "source": [
    "import numpy as np\n",
    "import matplotlib.pyplot as plt\n",
    "import math\n",
    "import itertools\n",
    "from ortools.linear_solver import pywraplp"
   ]
  },
  {
   "cell_type": "markdown",
   "id": "434f95f0",
   "metadata": {},
   "source": [
    "# Systems Simulation and Modeling Project"
   ]
  },
  {
   "cell_type": "markdown",
   "id": "dbec373f",
   "metadata": {},
   "source": [
    "## Optimization Linear Programming\n",
    "## Vehicle routing optimization"
   ]
  },
  {
   "cell_type": "markdown",
   "id": "c6611f74",
   "metadata": {},
   "source": [
    "###### Objective function\n",
    "We would want to minimize the total traveling distance of all vehicle\n",
    "$$minimize \\sum_{k=1}^{K} \\sum_{i=0}^{N} \\sum_{j=0}^{N} d_{ij}^{k}x_{ij}^{k}$$\n",
    "###### constraint 1\n",
    "Each location will be visited only once\n",
    "$$\\sum_{k=1}^{K}\\sum_{i=0, i\\ne j}^{N} x_{ij}^{k} = 1, \\forall j=1,...,N$$\n",
    "###### constraint 2\n",
    "Constraint 2 ensure that the initial point of each vehicle is the distribution center or they start from the depot.\n",
    "$$\\sum_{j=1}^{N} x_{0j}^{k} = 1, \\forall k$$\n",
    "###### constraint 3\n",
    "Constraint 3 ensure that each vehicle should return to the depot at the end.\n",
    "$$\\sum_{i=1}^{N} x_{i0}^{k} = 1, \\forall k$$\n",
    "###### constraint 4\n",
    "The value of incoming flow is same as outgoing flow.\n",
    "$$\\sum_{i=0}^{N} x_{it}^{k} - \\sum_{j=0}^{N} x_{tj}^{k} = 0, \\forall k, \\forall t$$\n",
    "###### constraint 5\n",
    "The distance traveled of each vehicle should not exceed maximum distance.\n",
    "$$\\sum_{i=0}^{N}\\sum_{j=0}^{N} d_{ij}x_{ij}^{k} \\leq D, \\forall k$$\n",
    "###### constraint 6\n",
    "The quantity of goods delivered must not exceed the capacity of the vehicle. \\\n",
    "For simplicity, in this constraint, I assume that quantity of goods for each location is 1.\n",
    "$$\\sum_{i=0}^{N}\\sum_{j=0}^{N} q_{j}x_{ij}^{k} \\leq Q, \\forall k$$\n",
    "###### constraint 7\n",
    "Subtours elimination, the routes must be connected.\n",
    "$$\\sum_{k=1}^{K}\\sum_{i \\in S}\\sum_{j \\in S} x_{ij}^{k} \\leq |S| - 1, \\forall k$$\n",
    "\n",
    "$$x_{ij}^{k} = 0, 1  \\forall k, \\forall i, \\forall j$$\n",
    "\n",
    "References \\\n",
    "https://bib.irb.hr/datoteka/433524.Vehnicle_Routing_Problem.pdf \\\n",
    "https://www.sciencedirect.com/science/article/pii/S2405896318313296 \\\n",
    "https://medium.com/jdsc-tech-blog/capacitated-vehicle-routing-problem-cvrp-with-python-pulp-and-google-maps-api-5a42dbb594c0"
   ]
  },
  {
   "cell_type": "code",
   "execution_count": 2,
   "id": "9f67ef9b",
   "metadata": {},
   "outputs": [],
   "source": [
    "np.random.seed(777)\n",
    "dim = 20\n",
    "vehicle_count = 3\n",
    "locations_count = 10\n",
    "max_distance = 40\n",
    "vehicle_capacity = 4\n",
    "locations = np.zeros((locations_count, 2))\n",
    "locations[0] = [dim/2, dim/2]\n",
    "count = 1\n",
    "while(count < locations_count):\n",
    "    x, y = np.random.randint(0, dim-1), np.random.randint(0, dim-1)\n",
    "    xy = np.array([x,y])\n",
    "    if not np.any(np.all(xy == locations, axis=1)): # if it is unique (x,y) coordinates, then add to locations\n",
    "        locations[count] = [x,y] \n",
    "        count+=1\n",
    "\n",
    "# quantity of goods that need to delivery to each location\n",
    "demand = [ 1 for i in range(locations_count) ]\n",
    "demand[0] = 0"
   ]
  },
  {
   "cell_type": "code",
   "execution_count": 3,
   "id": "870e142a",
   "metadata": {},
   "outputs": [],
   "source": [
    "xs, ys = locations.T\n",
    "center = locations[0]"
   ]
  },
  {
   "cell_type": "code",
   "execution_count": 4,
   "id": "e72360f0",
   "metadata": {},
   "outputs": [
    {
     "data": {
      "image/png": "[encoded data removed]",
      "text/plain": [
       "<Figure size 432x288 with 1 Axes>"
      ]
     },
     "metadata": {
      "needs_background": "light"
     },
     "output_type": "display_data"
    }
   ],
   "source": [
    "plt.plot(xs, ys, '.')\n",
    "plt.plot(center[0], center[1], '.')\n",
    "plt.grid()"
   ]
  },
  {
   "cell_type": "code",
   "execution_count": 5,
   "id": "edc02949",
   "metadata": {},
   "outputs": [],
   "source": [
    "def distance(p1, p2):\n",
    "    x1, x2 = p1[0], p2[0]\n",
    "    y1, y2 = p1[1], p2[1]\n",
    "    return math.hypot(x2 - x1, y2 - y1)"
   ]
  },
  {
   "cell_type": "code",
   "execution_count": 6,
   "id": "25f15b0c",
   "metadata": {},
   "outputs": [
    {
     "data": {
      "text/plain": [
       "[[0.0,\n",
       "  5.8309518948453,\n",
       "  8.06225774829855,\n",
       "  4.242640687119286,\n",
       "  5.0,\n",
       "  8.54400374531753,\n",
       "  10.77032961426901,\n",
       "  12.041594578792296,\n",
       "  5.8309518948453,\n",
       "  9.486832980505138],\n",
       " [5.8309518948453,\n",
       "  0.0,\n",
       "  2.23606797749979,\n",
       "  8.0,\n",
       "  10.63014581273465,\n",
       "  11.180339887498947,\n",
       "  16.55294535724685,\n",
       "  6.708203932499369,\n",
       "  8.246211251235321,\n",
       "  10.0],\n",
       " [8.06225774829855,\n",
       "  2.23606797749979,\n",
       "  0.0,\n",
       "  10.04987562112089,\n",
       "  12.806248474865697,\n",
       "  12.649110640673518,\n",
       "  18.788294228055936,\n",
       "  5.099019513592785,\n",
       "  10.04987562112089,\n",
       "  11.180339887498949],\n",
       " [4.242640687119286,\n",
       "  8.0,\n",
       "  10.04987562112089,\n",
       "  0.0,\n",
       "  7.0,\n",
       "  12.529964086141668,\n",
       "  9.899494936611665,\n",
       "  12.529964086141668,\n",
       "  2.0,\n",
       "  6.0],\n",
       " [5.0,\n",
       "  10.63014581273465,\n",
       "  12.806248474865697,\n",
       "  7.0,\n",
       "  0.0,\n",
       "  7.211102550927979,\n",
       "  7.0,\n",
       "  17.029386365926403,\n",
       "  9.0,\n",
       "  13.0],\n",
       " [8.54400374531753,\n",
       "  11.180339887498947,\n",
       "  12.649110640673518,\n",
       "  12.529964086141668,\n",
       "  7.211102550927979,\n",
       "  0.0,\n",
       "  13.601470508735444,\n",
       "  17.720045146669353,\n",
       "  14.317821063276352,\n",
       "  18.02775637731995],\n",
       " [10.77032961426901,\n",
       "  16.55294535724685,\n",
       "  18.788294228055936,\n",
       "  9.899494936611665,\n",
       "  7.0,\n",
       "  13.601470508735444,\n",
       "  0.0,\n",
       "  22.203603311174515,\n",
       "  11.40175425099138,\n",
       "  14.7648230602334],\n",
       " [12.041594578792296,\n",
       "  6.708203932499369,\n",
       "  5.099019513592785,\n",
       "  12.529964086141668,\n",
       "  17.029386365926403,\n",
       "  17.720045146669353,\n",
       "  22.203603311174515,\n",
       "  0.0,\n",
       "  11.704699910719626,\n",
       "  11.0],\n",
       " [5.8309518948453,\n",
       "  8.246211251235321,\n",
       "  10.04987562112089,\n",
       "  2.0,\n",
       "  9.0,\n",
       "  14.317821063276352,\n",
       "  11.40175425099138,\n",
       "  11.704699910719626,\n",
       "  0.0,\n",
       "  4.0],\n",
       " [9.486832980505138,\n",
       "  10.0,\n",
       "  11.180339887498949,\n",
       "  6.0,\n",
       "  13.0,\n",
       "  18.02775637731995,\n",
       "  14.7648230602334,\n",
       "  11.0,\n",
       "  4.0,\n",
       "  0.0]]"
      ]
     },
     "execution_count": 6,
     "metadata": {},
     "output_type": "execute_result"
    }
   ],
   "source": [
    "distance_matrix = [[distance(locations[i], locations[j]) \n",
    "                    for i in range(locations_count)] \n",
    "                    for j in range(locations_count)]\n",
    "distance_matrix"
   ]
  },
  {
   "cell_type": "code",
   "execution_count": 7,
   "id": "fd7415a4",
   "metadata": {},
   "outputs": [
    {
     "data": {
      "text/plain": [
       "5.8309518948453"
      ]
     },
     "execution_count": 7,
     "metadata": {},
     "output_type": "execute_result"
    }
   ],
   "source": [
    "distance(center, locations[1])"
   ]
  },
  {
   "cell_type": "code",
   "execution_count": 8,
   "id": "4c5918ce",
   "metadata": {},
   "outputs": [
    {
     "name": "stdout",
     "output_type": "stream",
     "text": [
      "[10. 10.]\n",
      "[ 7. 15.]\n"
     ]
    }
   ],
   "source": [
    "print(center)\n",
    "print(locations[1])"
   ]
  },
  {
   "cell_type": "code",
   "execution_count": 9,
   "id": "d63bb367",
   "metadata": {},
   "outputs": [],
   "source": [
    "solver = pywraplp.Solver.CreateSolver('SAT')\n",
    "\n",
    "# Decision variables\n",
    "x = [[[solver.IntVar(0, 1, 'x_%s_%s,%s'%(i, j, k)) \n",
    "        for k in range(vehicle_count)] \n",
    "        for j in range(locations_count)] \n",
    "        for i in range(locations_count)]\n",
    "\n",
    "# Objective function\n",
    "objective_terms = [ distance_matrix[i][j] * x[i][j][k]\n",
    "                   for i in range(locations_count) \n",
    "                   for j in range(locations_count) \n",
    "                   for k in range(vehicle_count) ]\n",
    "\n",
    "solver.Minimize(solver.Sum(objective_terms))"
   ]
  },
  {
   "cell_type": "code",
   "execution_count": 10,
   "id": "2506f4af",
   "metadata": {},
   "outputs": [],
   "source": [
    "# constraint 1\n",
    "for j in range(1, locations_count):\n",
    "    constraint1 = [ x[i][j][k]\n",
    "                   for k in range(vehicle_count) \n",
    "                   for i in range(locations_count) if i!=j ]\n",
    "    solver.Add(solver.Sum(constraint1) == 1)\n",
    "    \n",
    "# constraint 2\n",
    "for k in range(vehicle_count):\n",
    "    constraint2 = [x[0][j][k] for j in range(1, locations_count)]\n",
    "    solver.Add(solver.Sum(constraint2) == 1)\n",
    "\n",
    "# constraint 3\n",
    "for k in range(vehicle_count):\n",
    "    constraint3 = [x[i][0][k] for i in range(1, locations_count)]\n",
    "    solver.Add(solver.Sum(constraint3) == 1)\n",
    "    \n",
    "# constraint 4\n",
    "for k in range(vehicle_count):\n",
    "    for t in range(locations_count):\n",
    "        in_coming = [x[i][t][k] for i in range(locations_count) if i!=t]\n",
    "        out_going = [x[t][j][k] for j in range(locations_count) if j!=t]\n",
    "        solver.Add((solver.Sum(in_coming) - solver.Sum(out_going)) == 0)\n",
    "        \n",
    "# constraint 5\n",
    "for k in range(vehicle_count):\n",
    "    constraint5 = [ distance_matrix[i][j] * x[i][j][k] \n",
    "                   for i in range(locations_count)\n",
    "                   for j in range(locations_count) ]\n",
    "    solver.Add(solver.Sum(constraint5) <= max_distance)\n",
    "\n",
    "# constraint 6\n",
    "for k in range(vehicle_count):\n",
    "    constraint6 = [ demand[j]*x[i][j][k] for i in range(locations_count) for j in range(locations_count) if i!=j ]\n",
    "    solver.Add(solver.Sum(constraint6) <= vehicle_capacity)\n",
    "\n",
    "# constraint 7\n",
    "# subtour elimination\n",
    "subtours = []\n",
    "for i in range(2, locations_count):\n",
    "     subtours += itertools.combinations(range(1, locations_count), i)\n",
    "\n",
    "for s in subtours:\n",
    "    constraint7 = [x[i][j][k] for i in s \n",
    "                   for j in s \n",
    "                   for k in range(vehicle_count) if i!=j]\n",
    "    solver.Add(solver.Sum(constraint7) <= (len(s)-1))"
   ]
  },
  {
   "cell_type": "code",
   "execution_count": 11,
   "id": "230547f0",
   "metadata": {},
   "outputs": [
    {
     "data": {
      "text/plain": [
       "0"
      ]
     },
     "execution_count": 11,
     "metadata": {},
     "output_type": "execute_result"
    }
   ],
   "source": [
    "solver.Solve()"
   ]
  },
  {
   "cell_type": "code",
   "execution_count": 12,
   "id": "0623ffe1",
   "metadata": {},
   "outputs": [
    {
     "data": {
      "text/plain": [
       "78.46254354715347"
      ]
     },
     "execution_count": 12,
     "metadata": {},
     "output_type": "execute_result"
    }
   ],
   "source": [
    "solver.Objective().Value()"
   ]
  },
  {
   "cell_type": "code",
   "execution_count": 13,
   "id": "22d29b34",
   "metadata": {},
   "outputs": [
    {
     "name": "stdout",
     "output_type": "stream",
     "text": [
      "1.0\n"
     ]
    }
   ],
   "source": [
    "print(x[0][0][1].solution_value())"
   ]
  },
  {
   "cell_type": "code",
   "execution_count": 14,
   "id": "e80c083e",
   "metadata": {},
   "outputs": [],
   "source": [
    "def plot_graph(locations, vehicle_count, locations_count):\n",
    "    for k in range(vehicle_count):\n",
    "        for i in range(locations_count):\n",
    "            for j in range(locations_count):\n",
    "                if i!=j and x[i][j][k].solution_value() == 1:\n",
    "                    plt.plot([locations[i][0], locations[j][0]], [locations[i][1], locations[j][1]], c='black')"
   ]
  },
  {
   "cell_type": "code",
   "execution_count": 15,
   "id": "eb27d0a1",
   "metadata": {},
   "outputs": [
    {
     "name": "stdout",
     "output_type": "stream",
     "text": [
      "Minimum total traveling distance = 78.46254354715347\n"
     ]
    }
   ],
   "source": [
    "print(\"Minimum total traveling distance =\", solver.Objective().Value())"
   ]
  },
  {
   "cell_type": "code",
   "execution_count": 16,
   "id": "1761985a",
   "metadata": {},
   "outputs": [
    {
     "data": {
      "image/png": "[encoded data removed]",
      "text/plain": [
       "<Figure size 432x288 with 1 Axes>"
      ]
     },
     "metadata": {
      "needs_background": "light"
     },
     "output_type": "display_data"
    }
   ],
   "source": [
    "plot_graph(locations, vehicle_count, locations_count)\n",
    "plt.plot(xs, ys, '.')\n",
    "plt.grid()"
   ]
  }
 ],
 "metadata": {
  "kernelspec": {
   "display_name": "Python 3",
   "language": "python",
   "name": "python3"
  },
  "language_info": {
   "codemirror_mode": {
    "name": "ipython",
    "version": 3
   },
   "file_extension": ".py",
   "mimetype": "text/x-python",
   "name": "python",
   "nbconvert_exporter": "python",
   "pygments_lexer": "ipython3",
   "version": "3.8.8"
  }
 },
 "nbformat": 4,
 "nbformat_minor": 5
}
